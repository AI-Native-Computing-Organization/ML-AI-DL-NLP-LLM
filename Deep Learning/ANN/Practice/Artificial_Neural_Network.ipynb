{
  "nbformat": 4,
  "nbformat_minor": 0,
  "metadata": {
    "colab": {
      "provenance": []
    },
    "kernelspec": {
      "name": "python3",
      "display_name": "Python 3"
    }
  },
  "cells": [
    {
      "cell_type": "markdown",
      "metadata": {
        "id": "3cbb7fRy-eyr"
      },
      "source": [
        "# Artificial Neural Network"
      ]
    },
    {
      "cell_type": "markdown",
      "metadata": {
        "id": "8sNDnxE2-pwE"
      },
      "source": [
        "### Importing the libraries"
      ]
    },
    {
      "cell_type": "code",
      "metadata": {
        "id": "lxChR1Rk-umf"
      },
      "source": [
        "import numpy as np\n",
        "import pandas as pd\n",
        "import tensorflow as tf"
      ],
      "execution_count": 1,
      "outputs": []
    },
    {
      "cell_type": "code",
      "metadata": {
        "id": "uBTqR3nacj0e",
        "colab": {
          "base_uri": "https://localhost:8080/",
          "height": 36
        },
        "outputId": "8187e28f-c358-4787-d2a4-c2d69bfed42b"
      },
      "source": [
        "tf.__version__"
      ],
      "execution_count": 2,
      "outputs": [
        {
          "output_type": "execute_result",
          "data": {
            "text/plain": [
              "'2.15.0'"
            ],
            "application/vnd.google.colaboratory.intrinsic+json": {
              "type": "string"
            }
          },
          "metadata": {},
          "execution_count": 2
        }
      ]
    },
    {
      "cell_type": "markdown",
      "metadata": {
        "id": "AG3FQEch-yuA"
      },
      "source": [
        "## Part 1 - Data Preprocessing"
      ]
    },
    {
      "cell_type": "markdown",
      "metadata": {
        "id": "-4zq8Mza_D9O"
      },
      "source": [
        "### Importing the dataset"
      ]
    },
    {
      "cell_type": "code",
      "metadata": {
        "id": "B9CV13Co_HHM"
      },
      "source": [
        "dataset = pd.read_excel('Folds5x2_pp.xlsx')\n",
        "#no need to encode data here or feature scale due to the type of dataset.\n",
        "X = dataset.iloc[:, :-1].values\n",
        "y = dataset.iloc[:, -1].values"
      ],
      "execution_count": 12,
      "outputs": []
    },
    {
      "cell_type": "markdown",
      "metadata": {
        "id": "VC6omXel_Up0"
      },
      "source": [
        "### Splitting the dataset into the Training set and Test set"
      ]
    },
    {
      "cell_type": "code",
      "metadata": {
        "id": "L5edeb2r_agx"
      },
      "source": [
        "from sklearn.model_selection import train_test_split\n",
        "X_train, X_test, y_train, y_test = train_test_split(X, y, test_size = 0.2, random_state = 0)"
      ],
      "execution_count": 4,
      "outputs": []
    },
    {
      "cell_type": "markdown",
      "metadata": {
        "id": "_mSLlAT9_eyI"
      },
      "source": [
        "## Part 2 - Building the ANN"
      ]
    },
    {
      "cell_type": "markdown",
      "metadata": {
        "id": "CsBULd_f_wLY"
      },
      "source": [
        "### Initializing the ANN"
      ]
    },
    {
      "cell_type": "code",
      "metadata": {
        "id": "J6Hd97Ls__Nz"
      },
      "source": [
        "ann = tf.keras.models.Sequential()"
      ],
      "execution_count": 5,
      "outputs": []
    },
    {
      "cell_type": "markdown",
      "metadata": {
        "id": "iitAFJS_ABUn"
      },
      "source": [
        "### Adding the input layer and the first hidden layer"
      ]
    },
    {
      "cell_type": "code",
      "metadata": {
        "id": "ksO_Vv40AHix"
      },
      "source": [
        "ann.add(tf.keras.layers.Dense(units=6, activation='relu'))"
      ],
      "execution_count": 6,
      "outputs": []
    },
    {
      "cell_type": "markdown",
      "metadata": {
        "id": "-lb4kK_wAKbs"
      },
      "source": [
        "### Adding the second hidden layer"
      ]
    },
    {
      "cell_type": "code",
      "metadata": {
        "id": "c2357OqEAQOQ"
      },
      "source": [
        "ann.add(tf.keras.layers.Dense(units=6, activation='relu'))"
      ],
      "execution_count": 7,
      "outputs": []
    },
    {
      "cell_type": "markdown",
      "metadata": {
        "id": "jwMOmKb3AdBY"
      },
      "source": [
        "### Adding the output layer"
      ]
    },
    {
      "cell_type": "code",
      "metadata": {
        "id": "YFATpzsUAkLL"
      },
      "source": [
        "ann.add(tf.keras.layers.Dense(units=1))"
      ],
      "execution_count": 8,
      "outputs": []
    },
    {
      "cell_type": "markdown",
      "metadata": {
        "id": "fq7e4fF6A1yy"
      },
      "source": [
        "## Part 3 - Training the ANN"
      ]
    },
    {
      "cell_type": "markdown",
      "metadata": {
        "id": "qDeylAs2An25"
      },
      "source": [
        "### Compiling the ANN"
      ]
    },
    {
      "cell_type": "code",
      "metadata": {
        "id": "pesgbWlCAtB4"
      },
      "source": [
        "ann.compile(optimizer = 'adam', loss = 'mean_squared_error') #meansquared error"
      ],
      "execution_count": 9,
      "outputs": []
    },
    {
      "cell_type": "markdown",
      "metadata": {
        "id": "YjVuiybYOo7r"
      },
      "source": [
        "### Training the ANN model on the Training set"
      ]
    },
    {
      "cell_type": "code",
      "metadata": {
        "id": "c_vV-tiiA5zn",
        "colab": {
          "base_uri": "https://localhost:8080/"
        },
        "outputId": "437928de-3a19-43d8-8102-20f507ffc69e"
      },
      "source": [
        "ann.fit(X_train, y_train, batch_size = 32, epochs = 100)"
      ],
      "execution_count": 10,
      "outputs": [
        {
          "output_type": "stream",
          "name": "stdout",
          "text": [
            "Epoch 1/100\n",
            "240/240 [==============================] - 1s 2ms/step - loss: 166720.7500\n",
            "Epoch 2/100\n",
            "240/240 [==============================] - 0s 2ms/step - loss: 18233.9531\n",
            "Epoch 3/100\n",
            "240/240 [==============================] - 0s 2ms/step - loss: 331.8485\n",
            "Epoch 4/100\n",
            "240/240 [==============================] - 0s 2ms/step - loss: 323.6451\n",
            "Epoch 5/100\n",
            "240/240 [==============================] - 1s 6ms/step - loss: 314.0537\n",
            "Epoch 6/100\n",
            "240/240 [==============================] - 1s 4ms/step - loss: 303.1405\n",
            "Epoch 7/100\n",
            "240/240 [==============================] - 2s 8ms/step - loss: 291.1085\n",
            "Epoch 8/100\n",
            "240/240 [==============================] - 1s 3ms/step - loss: 277.6515\n",
            "Epoch 9/100\n",
            "240/240 [==============================] - 1s 4ms/step - loss: 262.9465\n",
            "Epoch 10/100\n",
            "240/240 [==============================] - 1s 4ms/step - loss: 247.4106\n",
            "Epoch 11/100\n",
            "240/240 [==============================] - 0s 2ms/step - loss: 230.8435\n",
            "Epoch 12/100\n",
            "240/240 [==============================] - 0s 2ms/step - loss: 213.7320\n",
            "Epoch 13/100\n",
            "240/240 [==============================] - 1s 3ms/step - loss: 196.5061\n",
            "Epoch 14/100\n",
            "240/240 [==============================] - 1s 2ms/step - loss: 178.8918\n",
            "Epoch 15/100\n",
            "240/240 [==============================] - 0s 2ms/step - loss: 161.2878\n",
            "Epoch 16/100\n",
            "240/240 [==============================] - 0s 2ms/step - loss: 144.4502\n",
            "Epoch 17/100\n",
            "240/240 [==============================] - 0s 2ms/step - loss: 128.0350\n",
            "Epoch 18/100\n",
            "240/240 [==============================] - 1s 4ms/step - loss: 112.7249\n",
            "Epoch 19/100\n",
            "240/240 [==============================] - 0s 2ms/step - loss: 99.0918\n",
            "Epoch 20/100\n",
            "240/240 [==============================] - 0s 2ms/step - loss: 86.3763\n",
            "Epoch 21/100\n",
            "240/240 [==============================] - 0s 2ms/step - loss: 75.5833\n",
            "Epoch 22/100\n",
            "240/240 [==============================] - 0s 2ms/step - loss: 65.8855\n",
            "Epoch 23/100\n",
            "240/240 [==============================] - 0s 2ms/step - loss: 57.6861\n",
            "Epoch 24/100\n",
            "240/240 [==============================] - 0s 2ms/step - loss: 51.1794\n",
            "Epoch 25/100\n",
            "240/240 [==============================] - 1s 3ms/step - loss: 45.4686\n",
            "Epoch 26/100\n",
            "240/240 [==============================] - 1s 4ms/step - loss: 40.7801\n",
            "Epoch 27/100\n",
            "240/240 [==============================] - 1s 4ms/step - loss: 37.1199\n",
            "Epoch 28/100\n",
            "240/240 [==============================] - 1s 3ms/step - loss: 34.5329\n",
            "Epoch 29/100\n",
            "240/240 [==============================] - 1s 2ms/step - loss: 32.2546\n",
            "Epoch 30/100\n",
            "240/240 [==============================] - 0s 2ms/step - loss: 30.5795\n",
            "Epoch 31/100\n",
            "240/240 [==============================] - 0s 2ms/step - loss: 29.3270\n",
            "Epoch 32/100\n",
            "240/240 [==============================] - 1s 3ms/step - loss: 28.5786\n",
            "Epoch 33/100\n",
            "240/240 [==============================] - 1s 4ms/step - loss: 28.1220\n",
            "Epoch 34/100\n",
            "240/240 [==============================] - 0s 2ms/step - loss: 27.7658\n",
            "Epoch 35/100\n",
            "240/240 [==============================] - 0s 2ms/step - loss: 27.4579\n",
            "Epoch 36/100\n",
            "240/240 [==============================] - 0s 2ms/step - loss: 27.6154\n",
            "Epoch 37/100\n",
            "240/240 [==============================] - 0s 2ms/step - loss: 27.3560\n",
            "Epoch 38/100\n",
            "240/240 [==============================] - 0s 2ms/step - loss: 27.0824\n",
            "Epoch 39/100\n",
            "240/240 [==============================] - 0s 2ms/step - loss: 27.5098\n",
            "Epoch 40/100\n",
            "240/240 [==============================] - 0s 2ms/step - loss: 27.0368\n",
            "Epoch 41/100\n",
            "240/240 [==============================] - 0s 2ms/step - loss: 27.2788\n",
            "Epoch 42/100\n",
            "240/240 [==============================] - 0s 2ms/step - loss: 26.7772\n",
            "Epoch 43/100\n",
            "240/240 [==============================] - 0s 2ms/step - loss: 27.0036\n",
            "Epoch 44/100\n",
            "240/240 [==============================] - 0s 2ms/step - loss: 26.7720\n",
            "Epoch 45/100\n",
            "240/240 [==============================] - 0s 2ms/step - loss: 26.3653\n",
            "Epoch 46/100\n",
            "240/240 [==============================] - 0s 2ms/step - loss: 26.9190\n",
            "Epoch 47/100\n",
            "240/240 [==============================] - 0s 2ms/step - loss: 26.9131\n",
            "Epoch 48/100\n",
            "240/240 [==============================] - 0s 2ms/step - loss: 26.6703\n",
            "Epoch 49/100\n",
            "240/240 [==============================] - 0s 2ms/step - loss: 26.8720\n",
            "Epoch 50/100\n",
            "240/240 [==============================] - 1s 3ms/step - loss: 27.2253\n",
            "Epoch 51/100\n",
            "240/240 [==============================] - 1s 6ms/step - loss: 26.9282\n",
            "Epoch 52/100\n",
            "240/240 [==============================] - 1s 4ms/step - loss: 26.7982\n",
            "Epoch 53/100\n",
            "240/240 [==============================] - 1s 4ms/step - loss: 26.7027\n",
            "Epoch 54/100\n",
            "240/240 [==============================] - 1s 3ms/step - loss: 27.0713\n",
            "Epoch 55/100\n",
            "240/240 [==============================] - 0s 2ms/step - loss: 26.2270\n",
            "Epoch 56/100\n",
            "240/240 [==============================] - 1s 2ms/step - loss: 26.4012\n",
            "Epoch 57/100\n",
            "240/240 [==============================] - 0s 2ms/step - loss: 26.6522\n",
            "Epoch 58/100\n",
            "240/240 [==============================] - 0s 2ms/step - loss: 27.0106\n",
            "Epoch 59/100\n",
            "240/240 [==============================] - 1s 4ms/step - loss: 26.3292\n",
            "Epoch 60/100\n",
            "240/240 [==============================] - 1s 2ms/step - loss: 26.4738\n",
            "Epoch 61/100\n",
            "240/240 [==============================] - 0s 2ms/step - loss: 26.6247\n",
            "Epoch 62/100\n",
            "240/240 [==============================] - 1s 4ms/step - loss: 26.6585\n",
            "Epoch 63/100\n",
            "240/240 [==============================] - 1s 3ms/step - loss: 26.4007\n",
            "Epoch 64/100\n",
            "240/240 [==============================] - 0s 2ms/step - loss: 26.8015\n",
            "Epoch 65/100\n",
            "240/240 [==============================] - 0s 2ms/step - loss: 26.6707\n",
            "Epoch 66/100\n",
            "240/240 [==============================] - 0s 2ms/step - loss: 26.5562\n",
            "Epoch 67/100\n",
            "240/240 [==============================] - 0s 2ms/step - loss: 26.5492\n",
            "Epoch 68/100\n",
            "240/240 [==============================] - 0s 2ms/step - loss: 26.7919\n",
            "Epoch 69/100\n",
            "240/240 [==============================] - 0s 2ms/step - loss: 26.5252\n",
            "Epoch 70/100\n",
            "240/240 [==============================] - 0s 2ms/step - loss: 26.7837\n",
            "Epoch 71/100\n",
            "240/240 [==============================] - 0s 2ms/step - loss: 26.7174\n",
            "Epoch 72/100\n",
            "240/240 [==============================] - 0s 2ms/step - loss: 26.3701\n",
            "Epoch 73/100\n",
            "240/240 [==============================] - 1s 4ms/step - loss: 26.3258\n",
            "Epoch 74/100\n",
            "240/240 [==============================] - 1s 5ms/step - loss: 26.7442\n",
            "Epoch 75/100\n",
            "240/240 [==============================] - 1s 6ms/step - loss: 26.4277\n",
            "Epoch 76/100\n",
            "240/240 [==============================] - 2s 8ms/step - loss: 26.5524\n",
            "Epoch 77/100\n",
            "240/240 [==============================] - 1s 5ms/step - loss: 26.8517\n",
            "Epoch 78/100\n",
            "240/240 [==============================] - 1s 5ms/step - loss: 26.6357\n",
            "Epoch 79/100\n",
            "240/240 [==============================] - 1s 4ms/step - loss: 26.4328\n",
            "Epoch 80/100\n",
            "240/240 [==============================] - 1s 3ms/step - loss: 26.6317\n",
            "Epoch 81/100\n",
            "240/240 [==============================] - 1s 2ms/step - loss: 26.4408\n",
            "Epoch 82/100\n",
            "240/240 [==============================] - 0s 2ms/step - loss: 26.5258\n",
            "Epoch 83/100\n",
            "240/240 [==============================] - 0s 2ms/step - loss: 26.7618\n",
            "Epoch 84/100\n",
            "240/240 [==============================] - 0s 2ms/step - loss: 26.3379\n",
            "Epoch 85/100\n",
            "240/240 [==============================] - 0s 2ms/step - loss: 26.6082\n",
            "Epoch 86/100\n",
            "240/240 [==============================] - 0s 2ms/step - loss: 26.3396\n",
            "Epoch 87/100\n",
            "240/240 [==============================] - 0s 2ms/step - loss: 26.7786\n",
            "Epoch 88/100\n",
            "240/240 [==============================] - 0s 2ms/step - loss: 26.5092\n",
            "Epoch 89/100\n",
            "240/240 [==============================] - 0s 2ms/step - loss: 26.3922\n",
            "Epoch 90/100\n",
            "240/240 [==============================] - 0s 2ms/step - loss: 26.4835\n",
            "Epoch 91/100\n",
            "240/240 [==============================] - 0s 2ms/step - loss: 27.0065\n",
            "Epoch 92/100\n",
            "240/240 [==============================] - 0s 2ms/step - loss: 27.0458\n",
            "Epoch 93/100\n",
            "240/240 [==============================] - 1s 2ms/step - loss: 26.3319\n",
            "Epoch 94/100\n",
            "240/240 [==============================] - 1s 3ms/step - loss: 26.4524\n",
            "Epoch 95/100\n",
            "240/240 [==============================] - 1s 3ms/step - loss: 26.6391\n",
            "Epoch 96/100\n",
            "240/240 [==============================] - 1s 3ms/step - loss: 27.4372\n",
            "Epoch 97/100\n",
            "240/240 [==============================] - 1s 3ms/step - loss: 26.5177\n",
            "Epoch 98/100\n",
            "240/240 [==============================] - 1s 4ms/step - loss: 26.2304\n",
            "Epoch 99/100\n",
            "240/240 [==============================] - 1s 4ms/step - loss: 27.2211\n",
            "Epoch 100/100\n",
            "240/240 [==============================] - 0s 2ms/step - loss: 26.4113\n"
          ]
        },
        {
          "output_type": "execute_result",
          "data": {
            "text/plain": [
              "<keras.src.callbacks.History at 0x7fea3d1da110>"
            ]
          },
          "metadata": {},
          "execution_count": 10
        }
      ]
    },
    {
      "cell_type": "markdown",
      "metadata": {
        "id": "0H0zKKNEBLD5"
      },
      "source": [
        "### Predicting the results of the Test set"
      ]
    },
    {
      "cell_type": "code",
      "metadata": {
        "id": "IA0yApEmBG1X",
        "colab": {
          "base_uri": "https://localhost:8080/"
        },
        "outputId": "fa3ff2b8-4776-4041-bbd9-ccca52ffc5bd"
      },
      "source": [
        "y_pred = ann.predict(X_test)\n",
        "np.set_printoptions(precision=2)\n",
        "print(np.concatenate((y_pred.reshape(len(y_pred),1), y_test.reshape(len(y_test),1)),1))"
      ],
      "execution_count": 11,
      "outputs": [
        {
          "output_type": "stream",
          "name": "stdout",
          "text": [
            "60/60 [==============================] - 0s 2ms/step\n",
            "[[431.41 431.23]\n",
            " [462.5  460.01]\n",
            " [466.02 461.14]\n",
            " ...\n",
            " [473.26 473.26]\n",
            " [439.96 438.  ]\n",
            " [459.22 463.28]]\n"
          ]
        }
      ]
    }
  ]
}